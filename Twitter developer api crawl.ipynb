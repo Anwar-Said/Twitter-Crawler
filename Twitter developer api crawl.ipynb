{
 "cells": [
  {
   "cell_type": "code",
   "execution_count": 18,
   "metadata": {
    "colab": {
     "base_uri": "https://localhost:8080/",
     "height": 103
    },
    "id": "IVRqpg_ah2GE",
    "outputId": "c98e281b-4f45-4618-f858-dd7d4bcb13cf"
   },
   "outputs": [
    {
     "data": {
      "text/plain": [
       "'\\nTo run as a standalone script, set your CONSUMER_KEY and CONSUMER_SECRET. To\\ncall search from code, pass in your credentials to the search_twitter function.\\n\\nScript to fetch a twitter search of tweets into a directory. Fetches all available\\ntweet history accessible by the application (7 days historical).\\n\\n## Operation\\n\\nSearch fetches tweets in pages of 100 from the most recent tweet backwards.\\nThus, you could fetch just the most recent few by interrupting the script at\\nany time.\\n\\nBy default tweets will be fetched into a zip file containing one .json file per\\ntweets. The --nozip flag will result in .json files being writting directly to\\nthe output directory.\\n\\n## Subsequent search execution\\n\\nIn case of interrupted searches, you may continue where you left off:\\n\\nOn subsequent runs of the same query, search will check for existing tweets in\\nthe output directory and will pick up where it left off at the lowest tweet ID,\\nand again work backwards in pages through the remaining history.\\n\\nThus, in order to execute a full query from scratch, be sure to remove any\\nexisting tweets from the relevant output directory -- but note that some of the\\noldest tweets may no longer be available for a fresh search.\\n\\nDuring subsequent runs of a query you may also use the --new flag wich will\\ncause the search to only fetch tweets newer than those currently in the\\noutput directory.\\n\\nSearch will throttle at 440 requests per 15 minutes to keep it safely under the\\ndesignated 450 allowed as per the Twitter docs here:\\nhttps://developer.twitter.com/en/docs/tweets/search/api-reference/get-search-tweets.html\\n'"
      ]
     },
     "execution_count": 18,
     "metadata": {},
     "output_type": "execute_result"
    }
   ],
   "source": [
    "\"\"\"\n",
    "To run as a standalone script, set your CONSUMER_KEY and CONSUMER_SECRET. To\n",
    "call search from code, pass in your credentials to the search_twitter function.\n",
    "\n",
    "Script to fetch a twitter search of tweets into a directory. Fetches all available\n",
    "tweet history accessible by the application (7 days historical).\n",
    "\n",
    "## Operation\n",
    "\n",
    "Search fetches tweets in pages of 100 from the most recent tweet backwards.\n",
    "Thus, you could fetch just the most recent few by interrupting the script at\n",
    "any time.\n",
    "\n",
    "By default tweets will be fetched into a zip file containing one .json file per\n",
    "tweets. The --nozip flag will result in .json files being writting directly to\n",
    "the output directory.\n",
    "\n",
    "## Subsequent search execution\n",
    "\n",
    "In case of interrupted searches, you may continue where you left off:\n",
    "\n",
    "On subsequent runs of the same query, search will check for existing tweets in\n",
    "the output directory and will pick up where it left off at the lowest tweet ID,\n",
    "and again work backwards in pages through the remaining history.\n",
    "\n",
    "Thus, in order to execute a full query from scratch, be sure to remove any\n",
    "existing tweets from the relevant output directory -- but note that some of the\n",
    "oldest tweets may no longer be available for a fresh search.\n",
    "\n",
    "During subsequent runs of a query you may also use the --new flag wich will\n",
    "cause the search to only fetch tweets newer than those currently in the\n",
    "output directory.\n",
    "\n",
    "Search will throttle at 440 requests per 15 minutes to keep it safely under the\n",
    "designated 450 allowed as per the Twitter docs here:\n",
    "https://developer.twitter.com/en/docs/tweets/search/api-reference/get-search-tweets.html\n",
    "\"\"\""
   ]
  },
  {
   "cell_type": "markdown",
   "metadata": {
    "id": "BnKM8P6hNpvP"
   },
   "source": []
  },
  {
   "cell_type": "code",
   "execution_count": 19,
   "metadata": {
    "colab": {
     "base_uri": "https://localhost:8080/"
    },
    "id": "VMagLu4Kkrad",
    "outputId": "c02af487-90b6-4a09-ca46-50ec4c52431a"
   },
   "outputs": [],
   "source": [
    "# !pip install birdy\n",
    "# !pip install ratelimiter\n"
   ]
  },
  {
   "cell_type": "code",
   "execution_count": 20,
   "metadata": {
    "id": "XkXtbAk2hLdl"
   },
   "outputs": [],
   "source": [
    "import json, os, sys, time\n",
    "from zipfile import ZipFile\n",
    "from birdy.twitter import AppClient, UserClient, TwitterRateLimitError\n",
    "from ratelimiter import RateLimiter\n",
    "\n",
    "\n",
    "\"\"\"\n",
    "Credentials can be found by selecting the \"Keys and tokens\" tab for your\n",
    "application selected from:\n",
    "\n",
    "https://developer.twitter.com/en/apps/\n",
    "\"\"\"\n",
    "CONSUMER_KEY = ''\n",
    "CONSUMER_SECRET = ''\n",
    "\n",
    "\n",
    "OUTPUT_DIR = 'data_json/'\n",
    "MAX_TWEETS = 10000 # max results for a search\n",
    "max_id = None\n",
    "_client = None\n",
    "\n",
    "\n",
    "def client(consumer_key=None, consumer_secret=None):\n",
    "    global _client\n",
    "    if consumer_key is None:\n",
    "        consumer_key = CONSUMER_KEY\n",
    "    if consumer_secret is None:\n",
    "        consumer_secret = CONSUMER_SECRET\n",
    "    if _client is None:\n",
    "        _client = AppClient(consumer_key, consumer_secret)\n",
    "        access_token = _client.get_access_token()\n",
    "        _client = AppClient(consumer_key, consumer_secret, access_token)\n",
    "    return _client\n",
    "\n",
    "\n",
    "def limited(until):\n",
    "    duration = int(round(until - time.time()))\n",
    "    print('Rate limited, sleeping for {:d} seconds'.format(duration))\n",
    "\n",
    "\n",
    "@RateLimiter(max_calls=440, period=60*15, callback=limited)\n",
    "def fetch_tweets(query, consumer_key=None, consumer_secret=None):\n",
    "    global max_id\n",
    "    print(f'Fetching: \"{query}\" TO MAX ID: {max_id}')\n",
    "    try:\n",
    "        tweets = client(consumer_key, consumer_secret).api.search.tweets.get(\n",
    "            q=query,\n",
    "            count=100,\n",
    "            max_id=max_id).data['statuses']\n",
    "    except TwitterRateLimitError:\n",
    "        sys.exit(\"You've reached your Twitter API rate limit. \"\\\n",
    "            \"Wait 15 minutes before trying again\")\n",
    "    try:\n",
    "        id_ = min([tweet['id'] for tweet in tweets])\n",
    "    except ValueError:\n",
    "        return None\n",
    "    if max_id is None or id_ <= max_id:\n",
    "        max_id = id_ - 1\n",
    "    return tweets\n",
    "\n",
    "\n",
    "def initialize_max_id(file_list):\n",
    "    global max_id\n",
    "    for fn in file_list:\n",
    "        n = int(fn.split('.')[0])\n",
    "        if max_id is None or n < max_id:\n",
    "            max_id = n - 1\n",
    "    if max_id is not None:\n",
    "        print('Found previously fetched tweets. Setting max_id to %d' % max_id)\n",
    "\n",
    "\n",
    "def halt(_id):\n",
    "    print('Reached historically fetched ID: %d' % _id)\n",
    "    print('In order to re-fetch older tweets, ' \\\n",
    "        'remove tweets from the output directory or output zip file.')\n",
    "    sys.exit('\\n!!IMPORTANT: Tweets older than 7 days will not be re-fetched')\n",
    "\n",
    "\n",
    "def search_twitter(query, consumer_key=None, consumer_secret=None,\n",
    "            newtweets=False, dozip=True, verbose=False):\n",
    "    output_dir = os.path.join(OUTPUT_DIR, '_'.join(query.split()))\n",
    "    if not os.path.exists(output_dir):\n",
    "        os.makedirs(output_dir)\n",
    "    if dozip:\n",
    "        fn = os.path.join(output_dir, '%s.zip' % '_'.join(query.split()))\n",
    "        outzip = ZipFile(fn, 'a')\n",
    "    if not newtweets:\n",
    "        if dozip:\n",
    "            file_list = [f for f in outzip.namelist() if f.endswith('.json')]\n",
    "        else:\n",
    "            file_list = [f for f in os.listdir(output_dir) if f.endswith('.json')]\n",
    "        initialize_max_id(file_list)\n",
    "    while True:\n",
    "        try:\n",
    "            tweets = fetch_tweets(\n",
    "                query,\n",
    "                consumer_key=consumer_key,\n",
    "                consumer_secret=consumer_secret)\n",
    "            if tweets is None:\n",
    "                print('Search Completed')\n",
    "                if dozip:\n",
    "                    outzip.close()\n",
    "                break\n",
    "            for tweet in tweets:\n",
    "                if verbose:\n",
    "                    print(tweet['id'])\n",
    "                fn = '%d.json' % tweet['id']\n",
    "                if dozip:\n",
    "                    if fn in (file_list):\n",
    "                        outzip.close()\n",
    "                        halt(tweet['id'])\n",
    "                    else:\n",
    "                        outzip.writestr(fn, json.dumps(tweet, indent=4))\n",
    "                        file_list.append(fn)\n",
    "                else:\n",
    "                    path = os.path.join(output_dir, fn)\n",
    "                    if fn in (file_list):\n",
    "                        halt(tweet['id'])\n",
    "                    else:\n",
    "                        with open(path, 'w') as outfile:\n",
    "                            json.dump(tweet, outfile, indent=4)\n",
    "                        file_list.append(fn)\n",
    "                if len(file_list) >= MAX_TWEETS:\n",
    "                    if fn in (file_list):\n",
    "                        outzip.close()\n",
    "                    # sys.exit('Reached maximum tweet limit of: %d' % MAX_TWEETS)\n",
    "        except:\n",
    "            if dozip:\n",
    "                outzip.close()\n",
    "            raise"
   ]
  },
  {
   "cell_type": "code",
   "execution_count": 22,
   "metadata": {
    "colab": {
     "base_uri": "https://localhost:8080/",
     "height": 1000
    },
    "id": "KyEOcZr6lPXd",
    "outputId": "786e7a95-4812-45de-f35e-a0a8737672c2"
   },
   "outputs": [
    {
     "name": "stdout",
     "output_type": "stream",
     "text": [
      "Found previously fetched tweets. Setting max_id to 1373288187737542655\n",
      "Fetching: \"#Reebok\" TO MAX ID: 1373288187737542655\n",
      "Fetching: \"#Reebok\" TO MAX ID: 1373054493470900224\n",
      "Fetching: \"#Reebok\" TO MAX ID: 1372899520695070719\n",
      "Fetching: \"#Reebok\" TO MAX ID: 1372784953147023363\n",
      "Fetching: \"#Reebok\" TO MAX ID: 1372736762489966591\n",
      "Fetching: \"#Reebok\" TO MAX ID: 1372481381314428933\n",
      "Fetching: \"#Reebok\" TO MAX ID: 1372354604449554437\n",
      "Fetching: \"#Reebok\" TO MAX ID: 1372244153065738242\n",
      "Fetching: \"#Reebok\" TO MAX ID: 1372214369874976770\n",
      "Fetching: \"#Reebok\" TO MAX ID: 1372191434791514114\n",
      "Fetching: \"#Reebok\" TO MAX ID: 1372164058716106751\n",
      "Fetching: \"#Reebok\" TO MAX ID: 1372148918432141315\n",
      "Fetching: \"#Reebok\" TO MAX ID: 1372142380275568643\n",
      "Fetching: \"#Reebok\" TO MAX ID: 1372138590210117635\n",
      "Fetching: \"#Reebok\" TO MAX ID: 1372133121815023616\n",
      "Fetching: \"#Reebok\" TO MAX ID: 1372127595706294276\n",
      "Fetching: \"#Reebok\" TO MAX ID: 1372125729371029503\n",
      "Fetching: \"#Reebok\" TO MAX ID: 1371844239110311943\n",
      "Fetching: \"#Reebok\" TO MAX ID: 1371538514186100735\n",
      "Fetching: \"#Reebok\" TO MAX ID: 1371369511555792895\n",
      "Fetching: \"#Reebok\" TO MAX ID: 1371285742756847620\n",
      "Fetching: \"#Reebok\" TO MAX ID: 1371150743978217473\n",
      "Fetching: \"#Reebok\" TO MAX ID: 1371067255623188480\n",
      "Search Completed\n"
     ]
    }
   ],
   "source": [
    "search_twitter('#Reebok')"
   ]
  },
  {
   "cell_type": "code",
   "execution_count": null,
   "metadata": {},
   "outputs": [],
   "source": []
  }
 ],
 "metadata": {
  "colab": {
   "name": "「01.download_twitter_data.ipynb」的副本",
   "provenance": []
  },
  "kernelspec": {
   "display_name": "Python 3",
   "language": "python",
   "name": "python3"
  },
  "language_info": {
   "codemirror_mode": {
    "name": "ipython",
    "version": 3
   },
   "file_extension": ".py",
   "mimetype": "text/x-python",
   "name": "python",
   "nbconvert_exporter": "python",
   "pygments_lexer": "ipython3",
   "version": "3.8.5"
  }
 },
 "nbformat": 4,
 "nbformat_minor": 1
}
